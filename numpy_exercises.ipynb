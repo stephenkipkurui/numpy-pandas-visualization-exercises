{
 "cells": [
  {
   "cell_type": "markdown",
   "id": "c30d6047",
   "metadata": {},
   "source": [
    "# ----------------------NUMPY  EXERCISES--------------------\n",
    "\n",
    "# In your numpy-pandas-visualization-exercises repo, create a file named numpy_exercises.py for this exercise.\n",
    "\n",
    "# Use the following code for the questions below:\n",
    "\n"
   ]
  },
  {
   "cell_type": "code",
   "execution_count": 19,
   "id": "3eb79f1d",
   "metadata": {},
   "outputs": [],
   "source": [
    "import numpy as np\n",
    "\n",
    "import math \n"
   ]
  },
  {
   "cell_type": "code",
   "execution_count": 7,
   "id": "ac7cda8a",
   "metadata": {},
   "outputs": [],
   "source": [
    "a = np.array([4, 10, 12, 23, -2, -1, 0, 0, 0, -6, 3, -7])\n"
   ]
  },
  {
   "cell_type": "code",
   "execution_count": 8,
   "id": "686de161",
   "metadata": {},
   "outputs": [
    {
     "data": {
      "text/plain": [
       "array([ 4, 10, 12, 23, -2, -1,  0,  0,  0, -6,  3, -7])"
      ]
     },
     "execution_count": 8,
     "metadata": {},
     "output_type": "execute_result"
    }
   ],
   "source": [
    "a"
   ]
  },
  {
   "cell_type": "markdown",
   "id": "629f400e",
   "metadata": {},
   "source": [
    "# 1). How many negative numbers are there?\n",
    "\n",
    "\n",
    "Answer: 4\n"
   ]
  },
  {
   "cell_type": "code",
   "execution_count": 23,
   "id": "fc6a5933",
   "metadata": {},
   "outputs": [
    {
     "data": {
      "text/plain": [
       "array([-2, -1, -6, -7])"
      ]
     },
     "execution_count": 23,
     "metadata": {},
     "output_type": "execute_result"
    }
   ],
   "source": [
    "negative_numbers = a[ a < 0]\n",
    "\n",
    "negative_numbers\n"
   ]
  },
  {
   "cell_type": "code",
   "execution_count": 24,
   "id": "5faec9cd",
   "metadata": {},
   "outputs": [
    {
     "data": {
      "text/plain": [
       "4"
      ]
     },
     "execution_count": 24,
     "metadata": {},
     "output_type": "execute_result"
    }
   ],
   "source": [
    "len(negative_numbers)"
   ]
  },
  {
   "cell_type": "markdown",
   "id": "8ca67015",
   "metadata": {},
   "source": [
    "# 2). How many positive numbers are there?\n",
    "\n",
    "\n",
    "Answer: 5\n"
   ]
  },
  {
   "cell_type": "code",
   "execution_count": 27,
   "id": "082e23f0",
   "metadata": {},
   "outputs": [
    {
     "data": {
      "text/plain": [
       "array([ 4, 10, 12, 23,  3])"
      ]
     },
     "execution_count": 27,
     "metadata": {},
     "output_type": "execute_result"
    }
   ],
   "source": [
    "positive_numbers = a [a > 0]\n",
    "positive_numbers"
   ]
  },
  {
   "cell_type": "code",
   "execution_count": 29,
   "id": "98b75823",
   "metadata": {},
   "outputs": [
    {
     "data": {
      "text/plain": [
       "5"
      ]
     },
     "execution_count": 29,
     "metadata": {},
     "output_type": "execute_result"
    }
   ],
   "source": [
    "len(positive_numbers)"
   ]
  },
  {
   "cell_type": "markdown",
   "id": "2fe8b9e3",
   "metadata": {},
   "source": [
    "# 3). How many even positive numbers are there?\n",
    "\n",
    "\n",
    " Answer: array([ 4, 10, 12])\n"
   ]
  },
  {
   "cell_type": "code",
   "execution_count": 33,
   "id": "e51303c7",
   "metadata": {},
   "outputs": [
    {
     "data": {
      "text/plain": [
       "array([ 4, 10, 12])"
      ]
     },
     "execution_count": 33,
     "metadata": {},
     "output_type": "execute_result"
    }
   ],
   "source": [
    "even_num = a [a % 2 == 0]\n",
    "\n",
    "positive_even_num = (even_num [even_num > 0])\n",
    "\n",
    "positive_even_num"
   ]
  },
  {
   "cell_type": "markdown",
   "id": "6873e32a",
   "metadata": {},
   "source": [
    "# 4). If you were to add 3 to each data point, how many positive numbers would there be?\n",
    "\n",
    "Answer: 10\n"
   ]
  },
  {
   "cell_type": "code",
   "execution_count": 58,
   "id": "a373334d",
   "metadata": {},
   "outputs": [],
   "source": [
    "original = a \n",
    "\n",
    "plus_three = original + 3\n",
    "\n",
    "plus_three_positive  = plus_three[plus_three > 0]\n",
    "\n"
   ]
  },
  {
   "cell_type": "code",
   "execution_count": 59,
   "id": "2430cb1e",
   "metadata": {},
   "outputs": [
    {
     "data": {
      "text/plain": [
       "10"
      ]
     },
     "execution_count": 59,
     "metadata": {},
     "output_type": "execute_result"
    }
   ],
   "source": [
    "len(plus_three_positive)"
   ]
  },
  {
   "cell_type": "markdown",
   "id": "0bf671e2",
   "metadata": {},
   "source": [
    "# 5). If you squared each number, what would the new mean and standard deviation be?\n",
    " Asnswer: Squared average = 74.0\n",
    " \n",
    " \n",
    " Answer Standard Deviation = 144.0243035046516\n"
   ]
  },
  {
   "cell_type": "code",
   "execution_count": null,
   "id": "604b04f1",
   "metadata": {},
   "outputs": [],
   "source": []
  },
  {
   "cell_type": "code",
   "execution_count": 72,
   "id": "a089a923",
   "metadata": {},
   "outputs": [
    {
     "data": {
      "text/plain": [
       "144.0243035046516"
      ]
     },
     "execution_count": 72,
     "metadata": {},
     "output_type": "execute_result"
    }
   ],
   "source": [
    "or_num = a \n",
    "\n",
    "squared = or_num * a\n",
    "\n",
    "mean_squared_num = np.average(squared)\n",
    "\n",
    "mean_squared_num\n",
    "\n",
    "standard_deviation = np.std(squared)\n",
    "\n",
    "standard_deviation\n",
    "\n"
   ]
  },
  {
   "cell_type": "markdown",
   "id": "1d26d5e7",
   "metadata": {},
   "source": [
    "\n",
    "# 6). A common statistical operation on a dataset is centering. This means to adjust the data such that the mean of the data is 0. This is done by subtracting the mean from each data point. Center the data set. See this link for more on centering."
   ]
  },
  {
   "cell_type": "code",
   "execution_count": null,
   "id": "44979ac9",
   "metadata": {},
   "outputs": [],
   "source": []
  },
  {
   "cell_type": "markdown",
   "id": "c57c5d34",
   "metadata": {},
   "source": [
    "# 7). Calculate the z-score for each data point. Recall that the z-score is given by:\n",
    "\n",
    "# Z = ((x − μ) / σ)"
   ]
  },
  {
   "cell_type": "code",
   "execution_count": null,
   "id": "10731302",
   "metadata": {},
   "outputs": [],
   "source": []
  },
  {
   "cell_type": "markdown",
   "id": "d10ad9b3",
   "metadata": {},
   "source": [
    "\n",
    "# 8). Copy the setup and exercise directions from More Numpy Practice into your numpy_exercises.py and add your solutions."
   ]
  },
  {
   "cell_type": "code",
   "execution_count": null,
   "id": "3d97ec19",
   "metadata": {},
   "outputs": [],
   "source": []
  },
  {
   "cell_type": "markdown",
   "id": "fb9750a0",
   "metadata": {},
   "source": [
    "# Awesome Bonus For much more practice with numpy, Go to https://github.com/rougier/numpy-100 and clone the repo down to\n",
    "# your laptop. Next, go to https://github.com/new to make a new repo. Name it numpy-100, and follow the directions to \"push an existing repository from the command line\" so that you can push up your changes to your own account."
   ]
  },
  {
   "cell_type": "code",
   "execution_count": null,
   "id": "b4a1ba2e",
   "metadata": {},
   "outputs": [],
   "source": []
  },
  {
   "cell_type": "code",
   "execution_count": null,
   "id": "409618f8",
   "metadata": {},
   "outputs": [],
   "source": []
  },
  {
   "cell_type": "code",
   "execution_count": null,
   "id": "cd862fbe",
   "metadata": {},
   "outputs": [],
   "source": []
  },
  {
   "cell_type": "code",
   "execution_count": 2,
   "id": "76b18796",
   "metadata": {},
   "outputs": [],
   "source": [
    "a = a = np.array([4, 10, 12, 23, -2, -1, 0, 0, 0, -6, 3, -7])\n"
   ]
  },
  {
   "cell_type": "code",
   "execution_count": 3,
   "id": "85b0fcf0",
   "metadata": {},
   "outputs": [
    {
     "data": {
      "text/plain": [
       "array([ 4, 10, 12, 23, -2, -1,  0,  0,  0, -6,  3, -7])"
      ]
     },
     "execution_count": 3,
     "metadata": {},
     "output_type": "execute_result"
    }
   ],
   "source": [
    "a"
   ]
  },
  {
   "cell_type": "code",
   "execution_count": null,
   "id": "6dfd8bed",
   "metadata": {},
   "outputs": [],
   "source": []
  }
 ],
 "metadata": {
  "kernelspec": {
   "display_name": "Python 3 (ipykernel)",
   "language": "python",
   "name": "python3"
  },
  "language_info": {
   "codemirror_mode": {
    "name": "ipython",
    "version": 3
   },
   "file_extension": ".py",
   "mimetype": "text/x-python",
   "name": "python",
   "nbconvert_exporter": "python",
   "pygments_lexer": "ipython3",
   "version": "3.9.7"
  }
 },
 "nbformat": 4,
 "nbformat_minor": 5
}
