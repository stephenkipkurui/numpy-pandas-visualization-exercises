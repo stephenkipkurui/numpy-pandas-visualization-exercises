{
 "cells": [
  {
   "cell_type": "markdown",
   "id": "c30d6047",
   "metadata": {},
   "source": [
    "# ----------------------NUMPY  EXERCISES--------------------\n",
    "\n",
    "# In your numpy-pandas-visualization-exercises repo, create a file named numpy_exercises.py for this exercise.\n",
    "\n",
    "# Use the following code for the questions below:\n",
    "\n"
   ]
  },
  {
   "cell_type": "code",
   "execution_count": null,
   "id": "3eb79f1d",
   "metadata": {},
   "outputs": [],
   "source": [
    "import numpy as np\n",
    "\n",
    "import math "
   ]
  },
  {
   "cell_type": "code",
   "execution_count": null,
   "id": "ac7cda8a",
   "metadata": {},
   "outputs": [],
   "source": [
    "a = np.array([4, 10, 12, 23, -2, -1, 0, 0, 0, -6, 3, -7])\n"
   ]
  },
  {
   "cell_type": "code",
   "execution_count": null,
   "id": "686de161",
   "metadata": {},
   "outputs": [],
   "source": [
    "a"
   ]
  },
  {
   "cell_type": "markdown",
   "id": "629f400e",
   "metadata": {},
   "source": [
    "# 1). How many negative numbers are there?\n",
    "\n",
    "\n",
    "Answer: 4\n"
   ]
  },
  {
   "cell_type": "code",
   "execution_count": null,
   "id": "fc6a5933",
   "metadata": {},
   "outputs": [],
   "source": [
    "negative_numbers = a[ a < 0]\n",
    "\n",
    "negative_numbers\n"
   ]
  },
  {
   "cell_type": "code",
   "execution_count": null,
   "id": "a5dd0b40",
   "metadata": {},
   "outputs": [],
   "source": [
    "len(negative_numbers)"
   ]
  },
  {
   "cell_type": "markdown",
   "id": "8ca67015",
   "metadata": {},
   "source": [
    "# 2). How many positive numbers are there?\n",
    "\n",
    "\n",
    "Answer: 5\n"
   ]
  },
  {
   "cell_type": "code",
   "execution_count": null,
   "id": "082e23f0",
   "metadata": {},
   "outputs": [],
   "source": [
    "positive_numbers = a [a > 0]\n",
    "positive_numbers"
   ]
  },
  {
   "cell_type": "code",
   "execution_count": null,
   "id": "82bf20ac",
   "metadata": {},
   "outputs": [],
   "source": [
    "len(positive_numbers)"
   ]
  },
  {
   "cell_type": "markdown",
   "id": "2fe8b9e3",
   "metadata": {},
   "source": [
    "# 3). How many even positive numbers are there?\n",
    "\n",
    "\n",
    " Answer: array([ 4, 10, 12])\n"
   ]
  },
  {
   "cell_type": "code",
   "execution_count": null,
   "id": "e51303c7",
   "metadata": {},
   "outputs": [],
   "source": [
    "even_num = a [a % 2 == 0]\n",
    "\n",
    "positive_even_num = (even_num [even_num > 0])\n",
    "\n",
    "positive_even_num"
   ]
  },
  {
   "cell_type": "markdown",
   "id": "6873e32a",
   "metadata": {},
   "source": [
    "# 4). If you were to add 3 to each data point, how many positive numbers would there be?\n",
    "\n",
    "Answer: 10\n"
   ]
  },
  {
   "cell_type": "code",
   "execution_count": null,
   "id": "a373334d",
   "metadata": {},
   "outputs": [],
   "source": [
    "original = a \n",
    "\n",
    "plus_three = original + 3\n",
    "\n",
    "plus_three_positive  = plus_three[plus_three > 0]"
   ]
  },
  {
   "cell_type": "code",
   "execution_count": null,
   "id": "a116e946",
   "metadata": {},
   "outputs": [],
   "source": [
    "len(plus_three_positive)"
   ]
  },
  {
   "cell_type": "markdown",
   "id": "0bf671e2",
   "metadata": {},
   "source": [
    "# 5). If you squared each number, what would the new mean and standard deviation be?\n",
    " Asnswer: Squared average = 74.0\n",
    " \n",
    " \n",
    " Answer Standard Deviation = 144.0243035046516\n"
   ]
  },
  {
   "cell_type": "code",
   "execution_count": null,
   "id": "1d82b75a",
   "metadata": {},
   "outputs": [],
   "source": []
  },
  {
   "cell_type": "code",
   "execution_count": null,
   "id": "a089a923",
   "metadata": {},
   "outputs": [],
   "source": [
    "or_num = a \n",
    "\n",
    "squared = or_num * a\n",
    "\n",
    "mean_squared_num = np.average(squared)\n",
    "\n",
    "mean_squared_num\n",
    "\n",
    "standard_deviation = np.std(squared)\n",
    "\n",
    "standard_deviation\n",
    "\n"
   ]
  },
  {
   "cell_type": "markdown",
   "id": "1d26d5e7",
   "metadata": {},
   "source": [
    "\n",
    "# 6). A common statistical operation on a dataset is centering. This means to adjust the data such that the mean of the data is 0. This is done by subtracting the mean from each data point. Center the data set. See this link for more on centering.\n",
    "\n",
    "Answer: array([  1.,   7.,   9.,  20.,  -5.,  -4.,  -3.,  -3.,  -3.,  -9.,   0.,  -10.])"
   ]
  },
  {
   "cell_type": "code",
   "execution_count": null,
   "id": "3f4dbf88",
   "metadata": {},
   "outputs": [],
   "source": []
  },
  {
   "cell_type": "code",
   "execution_count": null,
   "id": "44979ac9",
   "metadata": {},
   "outputs": [],
   "source": [
    "array_data = a\n",
    "\n",
    "mean_array_data = np.average(array_data)\n",
    "\n",
    "mean_array_data\n",
    "\n",
    "centered = array_data - mean_array_data\n",
    "\n",
    "centered\n",
    "\n",
    "# centered_dataset = array_data[array_data - mean_array_data]\n",
    "\n",
    "# centerd_dataset"
   ]
  },
  {
   "cell_type": "markdown",
   "id": "c57c5d34",
   "metadata": {},
   "source": [
    "# 7). Calculate the z-score for each data point. Recall that the z-score is given by:\n",
    "\n",
    "# Z = ((x − μ) / σ)\n",
    "\n",
    "\n",
    "Answer: array([ 0.00694327,  0.04860291,  0.06248945,  0.13886545, -0.03471636,\n",
    "       -0.02777309, -0.02082982, -0.02082982, -0.02082982, -0.06248945,\n",
    "        0.        , -0.06943273])"
   ]
  },
  {
   "cell_type": "code",
   "execution_count": 516,
   "id": "10731302",
   "metadata": {},
   "outputs": [
    {
     "data": {
      "text/plain": [
       "array([ 0.00694327,  0.04860291,  0.06248945,  0.13886545, -0.03471636,\n",
       "       -0.02777309, -0.02082982, -0.02082982, -0.02082982, -0.06248945,\n",
       "        0.        , -0.06943273])"
      ]
     },
     "execution_count": 516,
     "metadata": {},
     "output_type": "execute_result"
    }
   ],
   "source": [
    "z_score = centered / standard_deviation\n",
    "\n",
    "z_score"
   ]
  },
  {
   "cell_type": "markdown",
   "id": "d10ad9b3",
   "metadata": {},
   "source": [
    "\n",
    "# 8). Copy the setup and exercise directions from More Numpy Practice into your numpy_exercises.py and add your solutions."
   ]
  },
  {
   "cell_type": "code",
   "execution_count": null,
   "id": "3d97ec19",
   "metadata": {},
   "outputs": [],
   "source": [
    "import numpy as np\n",
    "# Life w/o numpy to life with numpy\n",
    "\n",
    "## Setup 1\n",
    "a = [1, 2, 3, 4, 5, 6, 7, 8, 9, 10]\n",
    "\n",
    "# Use python's built in functionality/operators to determine the following:\n",
    "# Exercise 1 - Make a variable called sum_of_a to hold the sum of all the numbers in above list\n",
    "\n",
    "sum_of_a = a \n",
    "\n",
    "# Exercise 2 - Make a variable named min_of_a to hold the minimum of all the numbers in the above list\n",
    "min_of_a = np.min(a)\n",
    "\n",
    "\n",
    "# Exercise 3 - Make a variable named max_of_a to hold the max number of all the numbers in the above list\n",
    "\n",
    "max_of_a = np.max(a)\n",
    "\n",
    "\n",
    "# Exercise 4 - Make a variable named mean_of_a to hold the average of all the numbers in the above list\n",
    "mean_of_a = np.mean(a)\n",
    "\n",
    "\n",
    "# Exercise 5 - Make a variable named product_of_a to hold the product of multiplying all the numbers in \n",
    "#the above list together\n",
    "product_of_a = np.sum(a)\n",
    "\n",
    "\n",
    "# Exercise 6 - Make a variable named squares_of_a. It should hold each number in a squared \n",
    "#like [1, 4, 9, 16, 25...]\n",
    "square_of_a = np.square(a)\n",
    "\n",
    "\n",
    "# Exercise 7 - Make a variable named odds_in_a. It should hold only the odd numbers*****************\n",
    "\n",
    "\n",
    "# odds_in_a = (a[a % 2 == 1])\n",
    "\n",
    "# Exercise 8 - Make a variable named evens_in_a. It should hold only the evens.**********************\n",
    "\n",
    "\n",
    "# even_in_a = (a[a % 2 == 0])\n",
    "# \n",
    "\n",
    "## What about life in two dimensions? A list of lists is matrix, a table, a spreadsheet, a chessboard...\n",
    "## Setup 2: Consider what it would take to find the sum, min, max, average, sum, product, and list of \n",
    "# squares for this list of two lists.\n",
    "\n",
    "b = [\n",
    "    [3, 4, 5],\n",
    "    [6, 7, 8]\n",
    "]\n",
    "\n",
    "array_b = np.array(b)\n",
    "\n",
    "array_b.sum() # Sum\n",
    "\n",
    "array_b.min() # Min\n",
    "\n",
    "array_b.max() # Max\n",
    "\n",
    "array_b.mean() # Average\n",
    "\n",
    "array_b.prod() \n",
    "\n",
    "\n",
    "# Exercise 1 - refactor the following to use numpy. Use sum_of_b as the variable. **Hint, you'll first \n",
    "# need to make sure that the \"b\" variable is a numpy array**\n",
    "\n",
    "sum_of_b = 0\n",
    "for row in b:\n",
    "    sum_of_b += sum(row) #****************************\n",
    "    \n",
    "#     #////////////////\n",
    "# b_array = np.array(b)\n",
    "\n",
    "# rows = np.sum(row)\n",
    "\n",
    "# sum_b_row = b_array[b_array + row]\n",
    "\n",
    "# sum_b_row\n",
    "# #//////////////////\n",
    "\n",
    "\n",
    "# Exercise 2 - refactor the following to use numpy. \n",
    "min_of_b = min(b[0]) if min(b[0]) <= min(b[1]) else min(b[1])  \n",
    "\n",
    "min_b0 = np.min(b[0])\n",
    "\n",
    "min_b1 = np.min(b[1])\n",
    "\n",
    "min_of_b2 = min_b0[min_b0 <=  min_b1] \n",
    "\n",
    "\n",
    "# Exercise 3 - refactor the following maximum calculation to find the answer with numpy.\n",
    "max_of_b = max(b[0]) if max(b[0]) >= max(b[1]) else max(b[1])\n",
    "\n",
    "\n",
    "# Exercise 4 - refactor the following using numpy to find the mean of b\n",
    "mean_of_b = (sum(b[0]) + sum(b[1])) / (len(b[0]) + len(b[1]))\n",
    "\n",
    "# Exercise 5 - refactor the following to use numpy for calculating the product of all numbers multiplied together.\n",
    "product_of_b = 1\n",
    "for row in b:\n",
    "    for number in row:\n",
    "        product_of_b *= number\n",
    "\n",
    "# Exercise 6 - refactor the following to use numpy to find the list of squares \n",
    "squares_of_b = []\n",
    "for row in b:\n",
    "    for number in row:\n",
    "        squares_of_b.append(number**2)\n",
    "\n",
    "\n",
    "# Exercise 7 - refactor using numpy to determine the odds_in_b\n",
    "odds_in_b = []\n",
    "for row in b:\n",
    "    for number in row:\n",
    "        if(number % 2 != 0):\n",
    "            odds_in_b.append(number)\n",
    "\n",
    "\n",
    "# Exercise 8 - refactor the following to use numpy to filter only the even numbers\n",
    "evens_in_b = []\n",
    "for row in b:\n",
    "    for number in row:\n",
    "        if(number % 2 == 0):\n",
    "            evens_in_b.append(number)\n",
    "\n",
    "# Exercise 9 - print out the shape of the array b.\n",
    "\n",
    "b_shape = np.shape(array_b)\n",
    "\n",
    "# Exercise 10 - transpose the array b.\n",
    "b_transposed = np.transpose(array_b)\n",
    "\n",
    "\n",
    "# Exercise 11 - reshape the array b to be a single list of 6 numbers. (1 x 6)\n",
    "b_reshaped_1_6 = np.reshape(array_b, (1 * 6) )\n",
    "\n",
    "\n",
    "# Exercise 12 - reshape the array b to be a list of 6 lists, each containing only 1 number (6 x 1)\n",
    "b_reshaped_6_1 = np.reshape(array_b, (6 * 1))\n",
    "\n",
    "## Setup 3\n",
    "c = [\n",
    "    [1, 2, 3],\n",
    "    [4, 5, 6],\n",
    "    [7, 8, 9]\n",
    "]\n",
    "\n",
    "# HINT, you'll first need to make sure that the \"c\" variable is a numpy array prior to using numpy array methods.\n",
    "# Exercise 1 - Find the min, max, sum, and product of c.\n",
    "\n",
    "array_c = np.array(c)\n",
    "\n",
    "array_c.sum()\n",
    "array_c.min()\n",
    "array_c.max()\n",
    "# matrix_c.multiply()# Multiply *********************\n",
    "\n",
    "# Exercise 2 - Determine the standard deviation of c.\n",
    "c_std = np.std(c)\n",
    "\n",
    "# Exercise 3 - Determine the variance of c.\n",
    "c_variance = np.var(c)\n",
    "\n",
    "# Exercise 4 - Print out the shape of the array c\n",
    "c_shape = np.shape(c)\n",
    "\n",
    "# Exercise 5 - Transpose c and print out transposed result.\n",
    "c_transpose = np.transpose(c)\n",
    "\n",
    "# Exercise 6 - Get the dot product of the array c with c. \n",
    "c_dot = np.dot(c, c)\n",
    "\n",
    "# Exercise 7 - Write the code necessary to sum up the result of c times c transposed. Answer should be 261\n",
    "array_c = np.array(c)\n",
    "\n",
    "sum_c_transposed = (array_c * c_transpose).sum()\n",
    "\n",
    "sum_c_transposed\n",
    " \n",
    "# Exercise 8 - Write the code necessary to determine the product of c times c transposed. Answer should be 131681894400.\n",
    "array_c = np.array(c)\n",
    "\n",
    "prod_c_transposed = (array_c * c_transpose).prod()\n",
    "\n",
    "prod_c_transposed\n",
    "\n",
    "\n",
    "## Setup 4\n",
    "d = [\n",
    "    [90, 30, 45, 0, 120, 180],\n",
    "    [45, -90, -30, 270, 90, 0],\n",
    "    [60, 45, -45, 90, -45, 180]\n",
    "]\n",
    "\n",
    "# Exercise 1 - Find the sine of all the numbers in d\n",
    "d_sin = np.sin(d)\n",
    "\n",
    "# Exercise 2 - Find the cosine of all the numbers in d\n",
    "d_cos = np.cos(d)\n",
    "\n",
    "# Exercise 3 - Find the tangent of all the numbers in d\n",
    "d_tan = np.tan(d)\n",
    "\n",
    "# Exercise 4 - Find all the negative numbers in d\n",
    "d_neg = np.negative(d)\n",
    "\n",
    "# Exercise 5 - Find all the positive numbers in d\n",
    "d_pos = np.positive(d)\n",
    "\n",
    "# Exercise 6 - Return an array of only the unique numbers in d.\n",
    "d_uniq = np.unique(d)\n",
    "\n",
    "# Exercise 7 - Determine how many unique numbers there are in d.\n",
    "d_count_uniq = len(np.unique(b))\n",
    "\n",
    "\n",
    "# Exercise 8 - Print out the shape of d.\n",
    "d_shape = np.shape(d)\n",
    "\n",
    "# Exercise 9 - Transpose and then print out the shape of d.\n",
    "d_transposed = np.transpose(d)\n",
    "\n",
    "# Exercise 10 - Reshape d into an array of 9 x 2\n",
    "d_reshape = np.reshape(d, (9, 2))\n"
   ]
  },
  {
   "cell_type": "markdown",
   "id": "fb9750a0",
   "metadata": {},
   "source": [
    "# Awesome Bonus For much more practice with numpy, Go to https://github.com/rougier/numpy-100 and clone the repo down to\n",
    "# your laptop. Next, go to https://github.com/new to make a new repo. Name it numpy-100, and follow the directions to \"push an existing repository from the command line\" so that you can push up your changes to your own account."
   ]
  },
  {
   "cell_type": "markdown",
   "id": "1d0010d9",
   "metadata": {},
   "source": [
    "# TESTING PLAYGROOUND SECTION"
   ]
  },
  {
   "cell_type": "code",
   "execution_count": null,
   "id": "7fd7d4b2",
   "metadata": {},
   "outputs": [],
   "source": [
    "\n"
   ]
  },
  {
   "cell_type": "code",
   "execution_count": null,
   "id": "5396ab6e",
   "metadata": {},
   "outputs": [],
   "source": []
  },
  {
   "cell_type": "code",
   "execution_count": null,
   "id": "9d5707ba",
   "metadata": {},
   "outputs": [],
   "source": []
  },
  {
   "cell_type": "code",
   "execution_count": null,
   "id": "409618f8",
   "metadata": {},
   "outputs": [],
   "source": [
    "sum_of_b = 0\n",
    "for row in b:\n",
    "    sum_of_b += sum(row)\n",
    "\n",
    "\n",
    "print(row)"
   ]
  },
  {
   "cell_type": "code",
   "execution_count": null,
   "id": "cd862fbe",
   "metadata": {},
   "outputs": [],
   "source": [
    "sum_of_b"
   ]
  },
  {
   "cell_type": "code",
   "execution_count": null,
   "id": "a6114aa0",
   "metadata": {},
   "outputs": [],
   "source": []
  }
 ],
 "metadata": {
  "kernelspec": {
   "display_name": "Python 3 (ipykernel)",
   "language": "python",
   "name": "python3"
  },
  "language_info": {
   "codemirror_mode": {
    "name": "ipython",
    "version": 3
   },
   "file_extension": ".py",
   "mimetype": "text/x-python",
   "name": "python",
   "nbconvert_exporter": "python",
   "pygments_lexer": "ipython3",
   "version": "3.8.9"
  }
 },
 "nbformat": 4,
 "nbformat_minor": 5
}
