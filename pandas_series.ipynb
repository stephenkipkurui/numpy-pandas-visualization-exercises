{
 "cells": [
  {
   "cell_type": "markdown",
   "id": "b444fa0f",
   "metadata": {},
   "source": [
    "# Exercises Part I\n",
    "\n",
    "## Make a file named pandas_series.py or pandas_series.ipynb for the following exercises.\n",
    "\n",
    "Use pandas to create a Series named fruits from the following list:\n",
    "\n",
    "\n",
    "    [\"kiwi\", \"mango\", \"strawberry\", \"pineapple\", \"gala apple\", \"honeycrisp apple\", \"tomato\", \"watermelon\", \"honeydew\", \"kiwi\", \"kiwi\", \"kiwi\", \"mango\", \"blueberry\", \"blackberry\", \"gooseberry\", \"papaya\"]\n",
    "Use Series attributes and methods to explore your fruits Series.\n"
   ]
  },
  {
   "cell_type": "code",
   "execution_count": 1,
   "id": "fe22bef1",
   "metadata": {},
   "outputs": [],
   "source": [
    "import numpy as np\n",
    "import pandas as pd\n",
    "\n",
    "import matplotlib.pyplot as plt\n"
   ]
  },
  {
   "cell_type": "code",
   "execution_count": 4,
   "id": "a947175c",
   "metadata": {},
   "outputs": [],
   "source": [
    "fruits = pd.Series([\"kiwi\", \"mango\", \"strawberry\", \"pineapple\", \"gala apple\", \"honeycrisp apple\", \"tomato\", \"watermelon\", \"honeydew\", \"kiwi\", \"kiwi\", \"kiwi\", \"mango\", \"blueberry\", \"blackberry\", \"gooseberry\", \"papaya\"])"
   ]
  },
  {
   "cell_type": "code",
   "execution_count": 8,
   "id": "34acbe8d",
   "metadata": {},
   "outputs": [
    {
     "data": {
      "text/plain": [
       "RangeIndex(start=0, stop=17, step=1)"
      ]
     },
     "execution_count": 8,
     "metadata": {},
     "output_type": "execute_result"
    }
   ],
   "source": [
    "fruits.index"
   ]
  },
  {
   "cell_type": "markdown",
   "id": "c0687027",
   "metadata": {},
   "source": [
    "Determine the number of elements in fruits.\n",
    "\n"
   ]
  },
  {
   "cell_type": "code",
   "execution_count": 12,
   "id": "2ea3f29a",
   "metadata": {},
   "outputs": [
    {
     "name": "stdout",
     "output_type": "stream",
     "text": [
      "Number of elements:  17\n"
     ]
    }
   ],
   "source": [
    "print('Number of elements: ',len(fruits))"
   ]
  },
  {
   "cell_type": "markdown",
   "id": "7d87ff0b",
   "metadata": {},
   "source": [
    "Output only the index from fruits.\n"
   ]
  },
  {
   "cell_type": "code",
   "execution_count": 14,
   "id": "370d4f9e",
   "metadata": {},
   "outputs": [
    {
     "data": {
      "text/plain": [
       "[0, 1, 2, 3, 4, 5, 6, 7, 8, 9, 10, 11, 12, 13, 14, 15, 16]"
      ]
     },
     "execution_count": 14,
     "metadata": {},
     "output_type": "execute_result"
    }
   ],
   "source": [
    "fruits.index.tolist()"
   ]
  },
  {
   "cell_type": "markdown",
   "id": "21bc0827",
   "metadata": {},
   "source": [
    "Output only the values from fruits.\n"
   ]
  },
  {
   "cell_type": "code",
   "execution_count": 15,
   "id": "d0921957",
   "metadata": {},
   "outputs": [
    {
     "data": {
      "text/plain": [
       "['kiwi',\n",
       " 'mango',\n",
       " 'strawberry',\n",
       " 'pineapple',\n",
       " 'gala apple',\n",
       " 'honeycrisp apple',\n",
       " 'tomato',\n",
       " 'watermelon',\n",
       " 'honeydew',\n",
       " 'kiwi',\n",
       " 'kiwi',\n",
       " 'kiwi',\n",
       " 'mango',\n",
       " 'blueberry',\n",
       " 'blackberry',\n",
       " 'gooseberry',\n",
       " 'papaya']"
      ]
     },
     "execution_count": 15,
     "metadata": {},
     "output_type": "execute_result"
    }
   ],
   "source": [
    "fruits.values.tolist()"
   ]
  },
  {
   "cell_type": "markdown",
   "id": "dd28e74b",
   "metadata": {},
   "source": [
    "Confirm the data type of the values in fruits.\n",
    "\n"
   ]
  },
  {
   "cell_type": "code",
   "execution_count": 18,
   "id": "36f4fd12",
   "metadata": {},
   "outputs": [
    {
     "name": "stdout",
     "output_type": "stream",
     "text": [
      "Fruit's Values datatype is : <class 'list'>\n"
     ]
    }
   ],
   "source": [
    "print('Fruit\\'s Values datatype is :',type(fruits.values.tolist()))"
   ]
  },
  {
   "cell_type": "markdown",
   "id": "b7bb42a0",
   "metadata": {},
   "source": [
    "Output only the first five values from fruits. Output the last three values. Output two random values from fruits.\n",
    "\n"
   ]
  },
  {
   "cell_type": "code",
   "execution_count": 19,
   "id": "408e06bc",
   "metadata": {},
   "outputs": [
    {
     "data": {
      "text/plain": [
       "0          kiwi\n",
       "1         mango\n",
       "2    strawberry\n",
       "3     pineapple\n",
       "4    gala apple\n",
       "dtype: object"
      ]
     },
     "execution_count": 19,
     "metadata": {},
     "output_type": "execute_result"
    }
   ],
   "source": [
    "fruits.head(5)"
   ]
  },
  {
   "cell_type": "markdown",
   "id": "9fb7b4b9",
   "metadata": {},
   "source": [
    "Run the .describe() on fruits to see what information it returns when called on a Series with string values.\n",
    "\n"
   ]
  },
  {
   "cell_type": "code",
   "execution_count": 21,
   "id": "8820379a",
   "metadata": {},
   "outputs": [
    {
     "data": {
      "text/plain": [
       "count       17\n",
       "unique      13\n",
       "top       kiwi\n",
       "freq         4\n",
       "dtype: object"
      ]
     },
     "execution_count": 21,
     "metadata": {},
     "output_type": "execute_result"
    }
   ],
   "source": [
    "fruits.describe()"
   ]
  },
  {
   "cell_type": "markdown",
   "id": "a91ff6e5",
   "metadata": {},
   "source": [
    "Run the code necessary to produce only the unique string values from fruits.\n",
    "\n"
   ]
  },
  {
   "cell_type": "code",
   "execution_count": 23,
   "id": "6dcd5286",
   "metadata": {},
   "outputs": [
    {
     "data": {
      "text/plain": [
       "0                 kiwi\n",
       "1                mango\n",
       "2           strawberry\n",
       "3            pineapple\n",
       "4           gala apple\n",
       "5     honeycrisp apple\n",
       "6               tomato\n",
       "7           watermelon\n",
       "8             honeydew\n",
       "9                 kiwi\n",
       "10                kiwi\n",
       "11                kiwi\n",
       "12               mango\n",
       "13           blueberry\n",
       "14          blackberry\n",
       "15          gooseberry\n",
       "16              papaya\n",
       "dtype: object"
      ]
     },
     "execution_count": 23,
     "metadata": {},
     "output_type": "execute_result"
    }
   ],
   "source": [
    "fruits.astype('str')"
   ]
  },
  {
   "cell_type": "markdown",
   "id": "de312df3",
   "metadata": {},
   "source": [
    "Determine how many times each unique string value occurs in fruits.\n",
    "\n"
   ]
  },
  {
   "cell_type": "code",
   "execution_count": 29,
   "id": "1e967b15",
   "metadata": {},
   "outputs": [
    {
     "data": {
      "text/plain": [
       "kiwi                4\n",
       "mango               2\n",
       "strawberry          1\n",
       "pineapple           1\n",
       "gala apple          1\n",
       "honeycrisp apple    1\n",
       "tomato              1\n",
       "watermelon          1\n",
       "honeydew            1\n",
       "blueberry           1\n",
       "blackberry          1\n",
       "gooseberry          1\n",
       "papaya              1\n",
       "dtype: int64"
      ]
     },
     "execution_count": 29,
     "metadata": {},
     "output_type": "execute_result"
    }
   ],
   "source": [
    "fruits.value_counts()"
   ]
  },
  {
   "cell_type": "markdown",
   "id": "12dece2f",
   "metadata": {},
   "source": [
    "Determine the string value that occurs most frequently in fruits.\n",
    "\n"
   ]
  },
  {
   "cell_type": "code",
   "execution_count": 51,
   "id": "eefdd5ad",
   "metadata": {},
   "outputs": [
    {
     "data": {
      "text/plain": [
       "'kiwi'"
      ]
     },
     "metadata": {},
     "output_type": "display_data"
    }
   ],
   "source": [
    "most_frequent = fruits.value_counts()\n",
    "display(most_frequent.idxmax())"
   ]
  },
  {
   "cell_type": "markdown",
   "id": "1833f3c4",
   "metadata": {},
   "source": [
    "Determine the string value that occurs least frequently in fruits."
   ]
  },
  {
   "cell_type": "code",
   "execution_count": 54,
   "id": "d08540c9",
   "metadata": {},
   "outputs": [
    {
     "data": {
      "text/plain": [
       "'strawberry'"
      ]
     },
     "metadata": {},
     "output_type": "display_data"
    }
   ],
   "source": [
    "least_frequent = fruits.value_counts()\n",
    "display(least_frequent.idxmin())"
   ]
  },
  {
   "cell_type": "markdown",
   "id": "1305256d",
   "metadata": {},
   "source": [
    "# Exercises Part II\n",
    "\n",
    "## Explore more attributes and methods while you continue to work with the fruits Series.\n"
   ]
  },
  {
   "cell_type": "code",
   "execution_count": null,
   "id": "54b42644",
   "metadata": {},
   "outputs": [],
   "source": []
  },
  {
   "cell_type": "markdown",
   "id": "d279aeca",
   "metadata": {},
   "source": [
    "Capitalize all the string values in fruits.\n",
    "\n"
   ]
  },
  {
   "cell_type": "code",
   "execution_count": 57,
   "id": "a254d77d",
   "metadata": {},
   "outputs": [
    {
     "data": {
      "text/plain": [
       "0                 KIWI\n",
       "1                MANGO\n",
       "2           STRAWBERRY\n",
       "3            PINEAPPLE\n",
       "4           GALA APPLE\n",
       "5     HONEYCRISP APPLE\n",
       "6               TOMATO\n",
       "7           WATERMELON\n",
       "8             HONEYDEW\n",
       "9                 KIWI\n",
       "10                KIWI\n",
       "11                KIWI\n",
       "12               MANGO\n",
       "13           BLUEBERRY\n",
       "14          BLACKBERRY\n",
       "15          GOOSEBERRY\n",
       "16              PAPAYA\n",
       "dtype: object"
      ]
     },
     "execution_count": 57,
     "metadata": {},
     "output_type": "execute_result"
    }
   ],
   "source": [
    "fruits.str.upper()"
   ]
  },
  {
   "cell_type": "markdown",
   "id": "e7d59e91",
   "metadata": {},
   "source": [
    "Lower all the string values in fruits.\n"
   ]
  },
  {
   "cell_type": "code",
   "execution_count": 58,
   "id": "9f7e49ab",
   "metadata": {},
   "outputs": [
    {
     "data": {
      "text/plain": [
       "0                 kiwi\n",
       "1                mango\n",
       "2           strawberry\n",
       "3            pineapple\n",
       "4           gala apple\n",
       "5     honeycrisp apple\n",
       "6               tomato\n",
       "7           watermelon\n",
       "8             honeydew\n",
       "9                 kiwi\n",
       "10                kiwi\n",
       "11                kiwi\n",
       "12               mango\n",
       "13           blueberry\n",
       "14          blackberry\n",
       "15          gooseberry\n",
       "16              papaya\n",
       "dtype: object"
      ]
     },
     "execution_count": 58,
     "metadata": {},
     "output_type": "execute_result"
    }
   ],
   "source": [
    "fruits.str.lower()"
   ]
  },
  {
   "cell_type": "markdown",
   "id": "e6818089",
   "metadata": {},
   "source": [
    "Count the letter \"a\" in all the string values (use string vectorization).\n",
    "\n"
   ]
  },
  {
   "cell_type": "code",
   "execution_count": 74,
   "id": "da03ab25",
   "metadata": {},
   "outputs": [
    {
     "data": {
      "text/plain": [
       "0     0\n",
       "1     1\n",
       "2     1\n",
       "3     1\n",
       "4     3\n",
       "5     1\n",
       "6     1\n",
       "7     1\n",
       "8     0\n",
       "9     0\n",
       "10    0\n",
       "11    0\n",
       "12    1\n",
       "13    0\n",
       "14    1\n",
       "15    0\n",
       "16    3\n",
       "dtype: int64"
      ]
     },
     "execution_count": 74,
     "metadata": {},
     "output_type": "execute_result"
    }
   ],
   "source": [
    "count_a = fruits.str.count('a')\n",
    "\n",
    "\n",
    "count_a"
   ]
  },
  {
   "cell_type": "code",
   "execution_count": null,
   "id": "d2b1d796",
   "metadata": {},
   "outputs": [],
   "source": []
  },
  {
   "cell_type": "markdown",
   "id": "2ad9d5fc",
   "metadata": {},
   "source": [
    "Output the number of vowels in each and every string value.\n",
    "\n"
   ]
  },
  {
   "cell_type": "code",
   "execution_count": 105,
   "id": "dc1918c1",
   "metadata": {},
   "outputs": [
    {
     "name": "stdout",
     "output_type": "stream",
     "text": [
      "['i', 'i', 'a', 'o', 'a', 'e', 'i', 'e', 'a', 'e', 'a', 'a', 'a', 'e', 'o', 'e', 'i', 'a', 'e', 'o', 'a', 'o', 'a', 'e', 'e', 'o', 'o', 'e', 'e', 'i', 'i', 'i', 'i', 'i', 'i', 'a', 'o', 'u', 'e', 'e', 'a', 'e', 'o', 'o', 'e', 'e', 'a', 'a', 'a']\n",
      "------------------------------\n",
      "Vowel Count is:  49\n",
      "------------------------------\n"
     ]
    }
   ],
   "source": [
    "vowels = ['a', 'e','i','o','u']\n",
    "\n",
    "vowel_count = []\n",
    "\n",
    "for chars in fruits:\n",
    "    \n",
    "    for ch in list(chars):\n",
    "        \n",
    "        if ch in vowels:\n",
    "            \n",
    "            vowel_count.append(ch)\n",
    "            \n",
    "print(vowel_count)\n",
    "print('------------------------------')\n",
    "print('Vowel Count is: ',len(vowel_count))\n",
    "print('------------------------------')\n",
    "\n",
    "\n",
    "    \n",
    "    "
   ]
  },
  {
   "cell_type": "code",
   "execution_count": 118,
   "id": "8ae2a7d9",
   "metadata": {},
   "outputs": [],
   "source": [
    "# vowels = list('aeiou')\n",
    "\n",
    "# fruits_chars = list(fruits.str)\n",
    "\n",
    "# fruits_vowels = fruits_chars.isin([vowels])\n",
    "\n",
    "# fruits_vowels"
   ]
  },
  {
   "cell_type": "markdown",
   "id": "e7dab00f",
   "metadata": {},
   "source": [
    "Write the code to get the longest string value from fruits.\n",
    "\n"
   ]
  },
  {
   "cell_type": "code",
   "execution_count": 134,
   "id": "a842e444",
   "metadata": {},
   "outputs": [
    {
     "data": {
      "text/plain": [
       "14          blackberry\n",
       "13           blueberry\n",
       "4           gala apple\n",
       "15          gooseberry\n",
       "5     honeycrisp apple\n",
       "8             honeydew\n",
       "11                kiwi\n",
       "10                kiwi\n",
       "9                 kiwi\n",
       "0                 kiwi\n",
       "12               mango\n",
       "1                mango\n",
       "16              papaya\n",
       "3            pineapple\n",
       "2           strawberry\n",
       "6               tomato\n",
       "7           watermelon\n",
       "dtype: object"
      ]
     },
     "execution_count": 134,
     "metadata": {},
     "output_type": "execute_result"
    }
   ],
   "source": [
    "fruits.sort_values()"
   ]
  },
  {
   "cell_type": "code",
   "execution_count": null,
   "id": "447d51db",
   "metadata": {},
   "outputs": [],
   "source": [
    "# ?????????????????????????"
   ]
  },
  {
   "cell_type": "markdown",
   "id": "905f4141",
   "metadata": {},
   "source": [
    "Write the code to get the string values with 5 or more letters in the name.\n",
    "\n"
   ]
  },
  {
   "cell_type": "code",
   "execution_count": 171,
   "id": "025c0dd8",
   "metadata": {},
   "outputs": [
    {
     "data": {
      "text/plain": [
       "0     kiwi\n",
       "0     kiwi\n",
       "0     kiwi\n",
       "0     kiwi\n",
       "0     kiwi\n",
       "1    mango\n",
       "0     kiwi\n",
       "0     kiwi\n",
       "0     kiwi\n",
       "0     kiwi\n",
       "0     kiwi\n",
       "0     kiwi\n",
       "0     kiwi\n",
       "0     kiwi\n",
       "1    mango\n",
       "0     kiwi\n",
       "0     kiwi\n",
       "dtype: object"
      ]
     },
     "execution_count": 171,
     "metadata": {},
     "output_type": "execute_result"
    }
   ],
   "source": [
    "fruits[fruits.str.count('c')]\n"
   ]
  },
  {
   "cell_type": "markdown",
   "id": "a639167d",
   "metadata": {},
   "source": [
    "Use the .apply method with a lambda function to find the fruit(s) containing the letter \"o\" two or more times.\n",
    "\n"
   ]
  },
  {
   "cell_type": "code",
   "execution_count": 177,
   "id": "d3af71e1",
   "metadata": {},
   "outputs": [
    {
     "data": {
      "text/plain": [
       "0          kiwi\n",
       "1         mango\n",
       "0          kiwi\n",
       "0          kiwi\n",
       "0          kiwi\n",
       "1         mango\n",
       "2    strawberry\n",
       "1         mango\n",
       "1         mango\n",
       "0          kiwi\n",
       "0          kiwi\n",
       "0          kiwi\n",
       "1         mango\n",
       "0          kiwi\n",
       "0          kiwi\n",
       "2    strawberry\n",
       "0          kiwi\n",
       "dtype: object"
      ]
     },
     "execution_count": 177,
     "metadata": {},
     "output_type": "execute_result"
    }
   ],
   "source": [
    "fruits[fruits.str.count('o')]\n",
    "# ????????????????????????"
   ]
  },
  {
   "cell_type": "markdown",
   "id": "5098537f",
   "metadata": {},
   "source": [
    "Write the code to get only the string values containing the substring \"berry\".\n",
    "\n"
   ]
  },
  {
   "cell_type": "code",
   "execution_count": 184,
   "id": "aff332a6",
   "metadata": {},
   "outputs": [
    {
     "data": {
      "text/plain": [
       "2     strawberry\n",
       "13     blueberry\n",
       "14    blackberry\n",
       "15    gooseberry\n",
       "dtype: object"
      ]
     },
     "execution_count": 184,
     "metadata": {},
     "output_type": "execute_result"
    }
   ],
   "source": [
    "fruits[fruits.str.lower().str.endswith('berry')]"
   ]
  },
  {
   "cell_type": "markdown",
   "id": "ef2d573e",
   "metadata": {},
   "source": [
    "Write the code to get only the string values containing the substring \"apple\".\n",
    "\n"
   ]
  },
  {
   "cell_type": "code",
   "execution_count": 187,
   "id": "6b7e819e",
   "metadata": {},
   "outputs": [
    {
     "data": {
      "text/plain": [
       "3           pineapple\n",
       "4          gala apple\n",
       "5    honeycrisp apple\n",
       "dtype: object"
      ]
     },
     "execution_count": 187,
     "metadata": {},
     "output_type": "execute_result"
    }
   ],
   "source": [
    "fruits[fruits.str.lower().str.contains('apple')]"
   ]
  },
  {
   "cell_type": "markdown",
   "id": "ca6469ec",
   "metadata": {},
   "source": [
    "# Exercises Part III\n",
    "\n",
    "## Use pandas to create a Series named letters from the following string. The easiest way to make this string into a Pandas series is to use list to convert each individual letter into a single string on a basic Python list.\n",
    "\n",
    "\n",
    "    data= 'hnvidduckkqxwymbimkccexbkmqygkxoyndmcxnwqarhyffsjpsrabtjzsypmzadfavyrnndndvswreauxovncxtwzpwejilzjrmmbbgbyxvjtewqthafnbkqplarokkyydtubbmnexoypulzwfhqvckdpqtpoppzqrmcvhhpwgjwupgzhiofohawytlsiyecuproguy'"
   ]
  },
  {
   "cell_type": "markdown",
   "id": "0f7585b5",
   "metadata": {},
   "source": [
    "Which letter occurs the most frequently in the letters Series?\n"
   ]
  },
  {
   "cell_type": "code",
   "execution_count": 2,
   "id": "add258b0",
   "metadata": {},
   "outputs": [],
   "source": [
    "initial_letters = pd.Series(['hnvidduckkqxwymbimkccexbkmqygkxoyndmcxnwqarhyffsjpsrabtjzsypmzadfavyrnndndvswreauxovncxtwzpwejilzjrmmbbgbyxvjtewqthafnbkqplarokkyydtubbmnexoypulzwfhqvckdpqtpoppzqrmcvhhpwgjwupgzhiofohawytlsiyecuproguy'])"
   ]
  },
  {
   "cell_type": "markdown",
   "id": "9d681eb6",
   "metadata": {},
   "source": [
    "Which letter occurs the Least frequently?"
   ]
  },
  {
   "cell_type": "code",
   "execution_count": 3,
   "id": "348c4f97",
   "metadata": {},
   "outputs": [
    {
     "name": "stdout",
     "output_type": "stream",
     "text": [
      "['h', 'n', 'v', 'i', 'd', 'd', 'u', 'c', 'k', 'k', 'q', 'x', 'w', 'y', 'm', 'b', 'i', 'm', 'k', 'c', 'c', 'e', 'x', 'b', 'k', 'm', 'q', 'y', 'g', 'k', 'x', 'o', 'y', 'n', 'd', 'm', 'c', 'x', 'n', 'w', 'q', 'a', 'r', 'h', 'y', 'f', 'f', 's', 'j', 'p', 's', 'r', 'a', 'b', 't', 'j', 'z', 's', 'y', 'p', 'm', 'z', 'a', 'd', 'f', 'a', 'v', 'y', 'r', 'n', 'n', 'd', 'n', 'd', 'v', 's', 'w', 'r', 'e', 'a', 'u', 'x', 'o', 'v', 'n', 'c', 'x', 't', 'w', 'z', 'p', 'w', 'e', 'j', 'i', 'l', 'z', 'j', 'r', 'm', 'm', 'b', 'b', 'g', 'b', 'y', 'x', 'v', 'j', 't', 'e', 'w', 'q', 't', 'h', 'a', 'f', 'n', 'b', 'k', 'q', 'p', 'l', 'a', 'r', 'o', 'k', 'k', 'y', 'y', 'd', 't', 'u', 'b', 'b', 'm', 'n', 'e', 'x', 'o', 'y', 'p', 'u', 'l', 'z', 'w', 'f', 'h', 'q', 'v', 'c', 'k', 'd', 'p', 'q', 't', 'p', 'o', 'p', 'p', 'z', 'q', 'r', 'm', 'c', 'v', 'h', 'h', 'p', 'w', 'g', 'j', 'w', 'u', 'p', 'g', 'z', 'h', 'i', 'o', 'f', 'o', 'h', 'a', 'w', 'y', 't', 'l', 's', 'i', 'y', 'e', 'c', 'u', 'p', 'r', 'o', 'g', 'u', 'y']\n"
     ]
    }
   ],
   "source": [
    "# With Python for loop\n",
    "\n",
    "letters = []\n",
    "\n",
    "for ch in initial_letters:\n",
    "    for c in list(ch):\n",
    "        \n",
    "        letters.append(c)\n",
    "        \n",
    "print(letters)\n",
    "        "
   ]
  },
  {
   "cell_type": "code",
   "execution_count": 21,
   "id": "647e896d",
   "metadata": {},
   "outputs": [
    {
     "name": "stdout",
     "output_type": "stream",
     "text": [
      "['h', 'n', 'v', 'i', 'd', 'd', 'u', 'c', 'k', 'k', 'q', 'x', 'w', 'y', 'm', 'b', 'i', 'm', 'k', 'c', 'c', 'e', 'x', 'b', 'k', 'm', 'q', 'y', 'g', 'k', 'x', 'o', 'y', 'n', 'd', 'm', 'c', 'x', 'n', 'w', 'q', 'a', 'r', 'h', 'y', 'f', 'f', 's', 'j', 'p', 's', 'r', 'a', 'b', 't', 'j', 'z', 's', 'y', 'p', 'm', 'z', 'a', 'd', 'f', 'a', 'v', 'y', 'r', 'n', 'n', 'd', 'n', 'd', 'v', 's', 'w', 'r', 'e', 'a', 'u', 'x', 'o', 'v', 'n', 'c', 'x', 't', 'w', 'z', 'p', 'w', 'e', 'j', 'i', 'l', 'z', 'j', 'r', 'm', 'm', 'b', 'b', 'g', 'b', 'y', 'x', 'v', 'j', 't', 'e', 'w', 'q', 't', 'h', 'a', 'f', 'n', 'b', 'k', 'q', 'p', 'l', 'a', 'r', 'o', 'k', 'k', 'y', 'y', 'd', 't', 'u', 'b', 'b', 'm', 'n', 'e', 'x', 'o', 'y', 'p', 'u', 'l', 'z', 'w', 'f', 'h', 'q', 'v', 'c', 'k', 'd', 'p', 'q', 't', 'p', 'o', 'p', 'p', 'z', 'q', 'r', 'm', 'c', 'v', 'h', 'h', 'p', 'w', 'g', 'j', 'w', 'u', 'p', 'g', 'z', 'h', 'i', 'o', 'f', 'o', 'h', 'a', 'w', 'y', 't', 'l', 's', 'i', 'y', 'e', 'c', 'u', 'p', 'r', 'o', 'g', 'u', 'y']"
     ]
    }
   ],
   "source": [
    "# With List Comprehension\n",
    "letters = []\n",
    "[letters.append(c) for ch in initial_letters for c in list(ch)]\n",
    "print(letters,end='')"
   ]
  },
  {
   "cell_type": "markdown",
   "id": "cbf548e4",
   "metadata": {},
   "source": [
    "How many vowels are in the Series?\n",
    "\n"
   ]
  },
  {
   "cell_type": "code",
   "execution_count": null,
   "id": "b40c63ee",
   "metadata": {},
   "outputs": [],
   "source": []
  },
  {
   "cell_type": "markdown",
   "id": "babe52e6",
   "metadata": {},
   "source": [
    "How many consonants are in the Series?\n",
    "\n"
   ]
  },
  {
   "cell_type": "code",
   "execution_count": null,
   "id": "580b368d",
   "metadata": {},
   "outputs": [],
   "source": []
  },
  {
   "cell_type": "markdown",
   "id": "977dc15d",
   "metadata": {},
   "source": [
    "Create a Series that has all of the same letters but uppercased.\n",
    "\n"
   ]
  },
  {
   "cell_type": "code",
   "execution_count": null,
   "id": "9510d60a",
   "metadata": {},
   "outputs": [],
   "source": []
  },
  {
   "cell_type": "markdown",
   "id": "1ebfda2d",
   "metadata": {},
   "source": [
    "Create a bar plot of the frequencies of the 6 most commonly occuring letters.\n",
    "\n"
   ]
  },
  {
   "cell_type": "code",
   "execution_count": null,
   "id": "64eb742d",
   "metadata": {},
   "outputs": [],
   "source": []
  },
  {
   "cell_type": "markdown",
   "id": "c7347996",
   "metadata": {},
   "source": [
    "## Use pandas to create a Series named numbers from the following list:\n",
    "\n",
    "\n",
    "    ['$796,459.41', '$278.60', '$482,571.67', '$4,503,915.98', '$2,121,418.3', \n",
    "     '$1,260,813.3', '$87,231.01', '$1,509,175.45', '$4,138,548.00', '$2,848,913.80', \n",
    "     '$594,715.39', '$4,789,988.17', '$4,513,644.5', '$3,191,059.97', '$1,758,712.24', \n",
    "     '$4,338,283.54', '$4,738,303.38', '$2,791,759.67', '$769,681.94', '$452,650.23']"
   ]
  },
  {
   "cell_type": "markdown",
   "id": "3c7b31fd",
   "metadata": {},
   "source": [
    "What is the data type of the numbers Series?\n",
    "\n"
   ]
  },
  {
   "cell_type": "code",
   "execution_count": null,
   "id": "d02c02c3",
   "metadata": {},
   "outputs": [],
   "source": []
  },
  {
   "cell_type": "markdown",
   "id": "9955ad3d",
   "metadata": {},
   "source": [
    "How many elements are in the number Series?\n",
    "\n"
   ]
  },
  {
   "cell_type": "code",
   "execution_count": null,
   "id": "3aed2f99",
   "metadata": {},
   "outputs": [],
   "source": []
  },
  {
   "cell_type": "markdown",
   "id": "21bbf154",
   "metadata": {},
   "source": [
    "Perform the necessary manipulations by accessing Series attributes and methods to convert the numbers \n",
    "Series to a numeric data type.\n",
    "\n"
   ]
  },
  {
   "cell_type": "code",
   "execution_count": null,
   "id": "5f43a81d",
   "metadata": {},
   "outputs": [],
   "source": []
  },
  {
   "cell_type": "markdown",
   "id": "e9241e45",
   "metadata": {},
   "source": [
    "Run the code to discover the maximum value from the Series.\n",
    "\n"
   ]
  },
  {
   "cell_type": "code",
   "execution_count": null,
   "id": "8e17fc62",
   "metadata": {},
   "outputs": [],
   "source": []
  },
  {
   "cell_type": "markdown",
   "id": "315d7953",
   "metadata": {},
   "source": [
    "Run the code to discover the minimum value from the Series.\n",
    "\n"
   ]
  },
  {
   "cell_type": "code",
   "execution_count": null,
   "id": "f18e2506",
   "metadata": {},
   "outputs": [],
   "source": []
  },
  {
   "cell_type": "markdown",
   "id": "cb640ce0",
   "metadata": {},
   "source": [
    "What is the range of the values in the Series?\n",
    "\n"
   ]
  },
  {
   "cell_type": "code",
   "execution_count": null,
   "id": "0dba52c9",
   "metadata": {},
   "outputs": [],
   "source": []
  },
  {
   "cell_type": "markdown",
   "id": "475f3127",
   "metadata": {},
   "source": [
    "Bin the data into 4 equally sized intervals or bins and output how many values fall into each bin.\n",
    "\n"
   ]
  },
  {
   "cell_type": "code",
   "execution_count": null,
   "id": "20dfcb24",
   "metadata": {},
   "outputs": [],
   "source": []
  },
  {
   "cell_type": "markdown",
   "id": "2f0866c8",
   "metadata": {},
   "source": [
    "Plot the binned data in a meaningful way. Be sure to include a title and axis labels.\n",
    "\n"
   ]
  },
  {
   "cell_type": "code",
   "execution_count": null,
   "id": "2e04526e",
   "metadata": {},
   "outputs": [],
   "source": []
  },
  {
   "cell_type": "markdown",
   "id": "f3011b19",
   "metadata": {},
   "source": [
    "## Use pandas to create a Series named exam_scores from the following list:\n",
    "\n",
    "     [60, 86, 75, 62, 93, 71, 60, 83, 95, 78, 65, 72, 69, 81, 96, 80, 85, 92, 82, 78]\n"
   ]
  },
  {
   "cell_type": "code",
   "execution_count": null,
   "id": "7d5120b2",
   "metadata": {},
   "outputs": [],
   "source": []
  },
  {
   "cell_type": "markdown",
   "id": "bb6df826",
   "metadata": {},
   "source": [
    "How many elements are in the exam_scores Series?\n",
    "\n"
   ]
  },
  {
   "cell_type": "code",
   "execution_count": null,
   "id": "b09b2eac",
   "metadata": {},
   "outputs": [],
   "source": []
  },
  {
   "cell_type": "markdown",
   "id": "63a1773d",
   "metadata": {},
   "source": [
    "Run the code to discover the minimum, the maximum, the mean, and the median scores for the exam_scores Series.\n",
    "\n"
   ]
  },
  {
   "cell_type": "code",
   "execution_count": null,
   "id": "6e379774",
   "metadata": {},
   "outputs": [],
   "source": []
  },
  {
   "cell_type": "markdown",
   "id": "ff8d3324",
   "metadata": {},
   "source": [
    "Plot the Series in a meaningful way and make sure your chart has a title and axis labels.\n",
    "\n"
   ]
  },
  {
   "cell_type": "code",
   "execution_count": null,
   "id": "84e4f410",
   "metadata": {},
   "outputs": [],
   "source": []
  },
  {
   "cell_type": "markdown",
   "id": "fc6651b1",
   "metadata": {},
   "source": [
    "Write the code necessary to implement a curve for your exam_grades Series and save this as \n",
    "curved_grades. Add the necessary points to the highest grade to make it 100, and add the same \n",
    "number of points to every other score in the Series as well.\n",
    "\n"
   ]
  },
  {
   "cell_type": "code",
   "execution_count": null,
   "id": "e3914512",
   "metadata": {},
   "outputs": [],
   "source": []
  },
  {
   "cell_type": "markdown",
   "id": "9da028a9",
   "metadata": {},
   "source": [
    "Use a method to convert each of the numeric values in the curved_grades Series into a categorical value of letter grades. For example, 86 should be a 'B' and 95 should be an 'A'. Save this as a Series named letter_grades.\n",
    "\n"
   ]
  },
  {
   "cell_type": "code",
   "execution_count": null,
   "id": "722d459a",
   "metadata": {},
   "outputs": [],
   "source": []
  },
  {
   "cell_type": "markdown",
   "id": "5241cd8c",
   "metadata": {},
   "source": [
    "Plot your new categorical letter_grades Series in a meaninful way and include a title and axis labels."
   ]
  },
  {
   "cell_type": "code",
   "execution_count": null,
   "id": "3af54413",
   "metadata": {},
   "outputs": [],
   "source": []
  },
  {
   "cell_type": "code",
   "execution_count": null,
   "id": "031f0d17",
   "metadata": {},
   "outputs": [],
   "source": []
  },
  {
   "cell_type": "code",
   "execution_count": null,
   "id": "004cebb9",
   "metadata": {},
   "outputs": [],
   "source": []
  },
  {
   "cell_type": "code",
   "execution_count": null,
   "id": "0ad32933",
   "metadata": {},
   "outputs": [],
   "source": []
  }
 ],
 "metadata": {
  "kernelspec": {
   "display_name": "Python 3 (ipykernel)",
   "language": "python",
   "name": "python3"
  },
  "language_info": {
   "codemirror_mode": {
    "name": "ipython",
    "version": 3
   },
   "file_extension": ".py",
   "mimetype": "text/x-python",
   "name": "python",
   "nbconvert_exporter": "python",
   "pygments_lexer": "ipython3",
   "version": "3.9.7"
  }
 },
 "nbformat": 4,
 "nbformat_minor": 5
}
