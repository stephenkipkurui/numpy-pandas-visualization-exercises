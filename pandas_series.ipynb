{
 "cells": [
  {
   "cell_type": "markdown",
   "id": "7e5c5beb",
   "metadata": {},
   "source": [
    "# Exercises Part I\n",
    "\n",
    "## Make a file named pandas_series.py or pandas_series.ipynb for the following exercises.\n",
    "\n",
    "Use pandas to create a Series named fruits from the following list:\n",
    "\n",
    "\n",
    "    [\"kiwi\", \"mango\", \"strawberry\", \"pineapple\", \"gala apple\", \"honeycrisp apple\", \"tomato\", \"watermelon\", \"honeydew\", \"kiwi\", \"kiwi\", \"kiwi\", \"mango\", \"blueberry\", \"blackberry\", \"gooseberry\", \"papaya\"]\n",
    "Use Series attributes and methods to explore your fruits Series.\n"
   ]
  },
  {
   "cell_type": "code",
   "execution_count": 3,
   "id": "97fd019b",
   "metadata": {},
   "outputs": [],
   "source": [
    "import numpy as np\n",
    "import pandas as pd\n",
    "\n",
    "import matplotlib.pyplot as plt\n"
   ]
  },
  {
   "cell_type": "code",
   "execution_count": 4,
   "id": "b29becc4",
   "metadata": {},
   "outputs": [],
   "source": [
    "fruits = pd.Series([\"kiwi\", \"mango\", \"strawberry\", \"pineapple\", \"gala apple\", \"honeycrisp apple\", \"tomato\", \"watermelon\", \"honeydew\", \"kiwi\", \"kiwi\", \"kiwi\", \"mango\", \"blueberry\", \"blackberry\", \"gooseberry\", \"papaya\"])"
   ]
  },
  {
   "cell_type": "code",
   "execution_count": 8,
   "id": "0db841be",
   "metadata": {},
   "outputs": [
    {
     "data": {
      "text/plain": [
       "RangeIndex(start=0, stop=17, step=1)"
      ]
     },
     "execution_count": 8,
     "metadata": {},
     "output_type": "execute_result"
    }
   ],
   "source": [
    "fruits.index"
   ]
  },
  {
   "cell_type": "markdown",
   "id": "c873f103",
   "metadata": {},
   "source": [
    "Determine the number of elements in fruits.\n",
    "\n"
   ]
  },
  {
   "cell_type": "code",
   "execution_count": 12,
   "id": "e4b4ca3e",
   "metadata": {},
   "outputs": [
    {
     "name": "stdout",
     "output_type": "stream",
     "text": [
      "Number of elements:  17\n"
     ]
    }
   ],
   "source": [
    "print('Number of elements: ',len(fruits))"
   ]
  },
  {
   "cell_type": "markdown",
   "id": "6fbf4777",
   "metadata": {},
   "source": [
    "Output only the index from fruits.\n"
   ]
  },
  {
   "cell_type": "code",
   "execution_count": 14,
   "id": "e5950dc1",
   "metadata": {},
   "outputs": [
    {
     "data": {
      "text/plain": [
       "[0, 1, 2, 3, 4, 5, 6, 7, 8, 9, 10, 11, 12, 13, 14, 15, 16]"
      ]
     },
     "execution_count": 14,
     "metadata": {},
     "output_type": "execute_result"
    }
   ],
   "source": [
    "fruits.index.tolist()"
   ]
  },
  {
   "cell_type": "markdown",
   "id": "fb1dcf5a",
   "metadata": {},
   "source": [
    "Output only the values from fruits.\n"
   ]
  },
  {
   "cell_type": "code",
   "execution_count": 15,
   "id": "2efc5598",
   "metadata": {},
   "outputs": [
    {
     "data": {
      "text/plain": [
       "['kiwi',\n",
       " 'mango',\n",
       " 'strawberry',\n",
       " 'pineapple',\n",
       " 'gala apple',\n",
       " 'honeycrisp apple',\n",
       " 'tomato',\n",
       " 'watermelon',\n",
       " 'honeydew',\n",
       " 'kiwi',\n",
       " 'kiwi',\n",
       " 'kiwi',\n",
       " 'mango',\n",
       " 'blueberry',\n",
       " 'blackberry',\n",
       " 'gooseberry',\n",
       " 'papaya']"
      ]
     },
     "execution_count": 15,
     "metadata": {},
     "output_type": "execute_result"
    }
   ],
   "source": [
    "fruits.values.tolist()"
   ]
  },
  {
   "cell_type": "markdown",
   "id": "502eb58b",
   "metadata": {},
   "source": [
    "Confirm the data type of the values in fruits.\n",
    "\n"
   ]
  },
  {
   "cell_type": "code",
   "execution_count": 18,
   "id": "0c000100",
   "metadata": {},
   "outputs": [
    {
     "name": "stdout",
     "output_type": "stream",
     "text": [
      "Fruit's Values datatype is : <class 'list'>\n"
     ]
    }
   ],
   "source": [
    "print('Fruit\\'s Values datatype is :',type(fruits.values.tolist()))"
   ]
  },
  {
   "cell_type": "markdown",
   "id": "fbcca241",
   "metadata": {},
   "source": [
    "Output only the first five values from fruits. Output the last three values. Output two random values from fruits.\n",
    "\n"
   ]
  },
  {
   "cell_type": "code",
   "execution_count": 19,
   "id": "b094be2b",
   "metadata": {},
   "outputs": [
    {
     "data": {
      "text/plain": [
       "0          kiwi\n",
       "1         mango\n",
       "2    strawberry\n",
       "3     pineapple\n",
       "4    gala apple\n",
       "dtype: object"
      ]
     },
     "execution_count": 19,
     "metadata": {},
     "output_type": "execute_result"
    }
   ],
   "source": [
    "fruits.head(5)"
   ]
  },
  {
   "cell_type": "markdown",
   "id": "52e10d7f",
   "metadata": {},
   "source": [
    "Run the .describe() on fruits to see what information it returns when called on a Series with string values.\n",
    "\n"
   ]
  },
  {
   "cell_type": "code",
   "execution_count": 21,
   "id": "cfed1ba9",
   "metadata": {},
   "outputs": [
    {
     "data": {
      "text/plain": [
       "count       17\n",
       "unique      13\n",
       "top       kiwi\n",
       "freq         4\n",
       "dtype: object"
      ]
     },
     "execution_count": 21,
     "metadata": {},
     "output_type": "execute_result"
    }
   ],
   "source": [
    "fruits.describe()"
   ]
  },
  {
   "cell_type": "markdown",
   "id": "c29bdf27",
   "metadata": {},
   "source": [
    "Run the code necessary to produce only the unique string values from fruits.\n",
    "\n"
   ]
  },
  {
   "cell_type": "code",
   "execution_count": 23,
   "id": "061e3c0e",
   "metadata": {},
   "outputs": [
    {
     "data": {
      "text/plain": [
       "0                 kiwi\n",
       "1                mango\n",
       "2           strawberry\n",
       "3            pineapple\n",
       "4           gala apple\n",
       "5     honeycrisp apple\n",
       "6               tomato\n",
       "7           watermelon\n",
       "8             honeydew\n",
       "9                 kiwi\n",
       "10                kiwi\n",
       "11                kiwi\n",
       "12               mango\n",
       "13           blueberry\n",
       "14          blackberry\n",
       "15          gooseberry\n",
       "16              papaya\n",
       "dtype: object"
      ]
     },
     "execution_count": 23,
     "metadata": {},
     "output_type": "execute_result"
    }
   ],
   "source": [
    "fruits.astype('str')"
   ]
  },
  {
   "cell_type": "markdown",
   "id": "1bf5ded7",
   "metadata": {},
   "source": [
    "Determine how many times each unique string value occurs in fruits.\n",
    "\n"
   ]
  },
  {
   "cell_type": "code",
   "execution_count": 29,
   "id": "04c75537",
   "metadata": {},
   "outputs": [
    {
     "data": {
      "text/plain": [
       "kiwi                4\n",
       "mango               2\n",
       "strawberry          1\n",
       "pineapple           1\n",
       "gala apple          1\n",
       "honeycrisp apple    1\n",
       "tomato              1\n",
       "watermelon          1\n",
       "honeydew            1\n",
       "blueberry           1\n",
       "blackberry          1\n",
       "gooseberry          1\n",
       "papaya              1\n",
       "dtype: int64"
      ]
     },
     "execution_count": 29,
     "metadata": {},
     "output_type": "execute_result"
    }
   ],
   "source": [
    "fruits.value_counts()"
   ]
  },
  {
   "cell_type": "markdown",
   "id": "455e70fc",
   "metadata": {},
   "source": [
    "Determine the string value that occurs most frequently in fruits.\n",
    "\n"
   ]
  },
  {
   "cell_type": "code",
   "execution_count": 51,
   "id": "1030e952",
   "metadata": {},
   "outputs": [
    {
     "data": {
      "text/plain": [
       "'kiwi'"
      ]
     },
     "metadata": {},
     "output_type": "display_data"
    }
   ],
   "source": [
    "most_frequent = fruits.value_counts()\n",
    "display(most_frequent.idxmax())"
   ]
  },
  {
   "cell_type": "markdown",
   "id": "249a3945",
   "metadata": {},
   "source": [
    "Determine the string value that occurs least frequently in fruits."
   ]
  },
  {
   "cell_type": "code",
   "execution_count": 54,
   "id": "89552892",
   "metadata": {},
   "outputs": [
    {
     "data": {
      "text/plain": [
       "'strawberry'"
      ]
     },
     "metadata": {},
     "output_type": "display_data"
    }
   ],
   "source": [
    "least_frequent = fruits.value_counts()\n",
    "display(least_frequent.idxmin())"
   ]
  },
  {
   "cell_type": "markdown",
   "id": "d5c86ed6",
   "metadata": {},
   "source": [
    "# Exercises Part II\n",
    "\n",
    "## Explore more attributes and methods while you continue to work with the fruits Series.\n"
   ]
  },
  {
   "cell_type": "code",
   "execution_count": null,
   "id": "4f0e4b6f",
   "metadata": {},
   "outputs": [],
   "source": []
  },
  {
   "cell_type": "markdown",
   "id": "ceb07c2d",
   "metadata": {},
   "source": [
    "Capitalize all the string values in fruits.\n",
    "\n"
   ]
  },
  {
   "cell_type": "code",
   "execution_count": 57,
   "id": "bfda4487",
   "metadata": {},
   "outputs": [
    {
     "data": {
      "text/plain": [
       "0                 KIWI\n",
       "1                MANGO\n",
       "2           STRAWBERRY\n",
       "3            PINEAPPLE\n",
       "4           GALA APPLE\n",
       "5     HONEYCRISP APPLE\n",
       "6               TOMATO\n",
       "7           WATERMELON\n",
       "8             HONEYDEW\n",
       "9                 KIWI\n",
       "10                KIWI\n",
       "11                KIWI\n",
       "12               MANGO\n",
       "13           BLUEBERRY\n",
       "14          BLACKBERRY\n",
       "15          GOOSEBERRY\n",
       "16              PAPAYA\n",
       "dtype: object"
      ]
     },
     "execution_count": 57,
     "metadata": {},
     "output_type": "execute_result"
    }
   ],
   "source": [
    "fruits.str.upper()"
   ]
  },
  {
   "cell_type": "markdown",
   "id": "770ccfbb",
   "metadata": {},
   "source": [
    "Lower all the string values in fruits.\n"
   ]
  },
  {
   "cell_type": "code",
   "execution_count": 58,
   "id": "20876ed6",
   "metadata": {},
   "outputs": [
    {
     "data": {
      "text/plain": [
       "0                 kiwi\n",
       "1                mango\n",
       "2           strawberry\n",
       "3            pineapple\n",
       "4           gala apple\n",
       "5     honeycrisp apple\n",
       "6               tomato\n",
       "7           watermelon\n",
       "8             honeydew\n",
       "9                 kiwi\n",
       "10                kiwi\n",
       "11                kiwi\n",
       "12               mango\n",
       "13           blueberry\n",
       "14          blackberry\n",
       "15          gooseberry\n",
       "16              papaya\n",
       "dtype: object"
      ]
     },
     "execution_count": 58,
     "metadata": {},
     "output_type": "execute_result"
    }
   ],
   "source": [
    "fruits.str.lower()"
   ]
  },
  {
   "cell_type": "markdown",
   "id": "8e9b0c9e",
   "metadata": {},
   "source": [
    "Count the letter \"a\" in all the string values (use string vectorization).\n",
    "\n"
   ]
  },
  {
   "cell_type": "code",
   "execution_count": 74,
   "id": "6bbc50a2",
   "metadata": {},
   "outputs": [
    {
     "data": {
      "text/plain": [
       "0     0\n",
       "1     1\n",
       "2     1\n",
       "3     1\n",
       "4     3\n",
       "5     1\n",
       "6     1\n",
       "7     1\n",
       "8     0\n",
       "9     0\n",
       "10    0\n",
       "11    0\n",
       "12    1\n",
       "13    0\n",
       "14    1\n",
       "15    0\n",
       "16    3\n",
       "dtype: int64"
      ]
     },
     "execution_count": 74,
     "metadata": {},
     "output_type": "execute_result"
    }
   ],
   "source": [
    "count_a = fruits.str.count('a')\n",
    "\n",
    "\n",
    "count_a"
   ]
  },
  {
   "cell_type": "code",
   "execution_count": null,
   "id": "928e30d7",
   "metadata": {},
   "outputs": [],
   "source": []
  },
  {
   "cell_type": "markdown",
   "id": "a9dd7ed8",
   "metadata": {},
   "source": [
    "Output the number of vowels in each and every string value.\n",
    "\n"
   ]
  },
  {
   "cell_type": "code",
   "execution_count": 100,
   "id": "4e4ea819",
   "metadata": {},
   "outputs": [
    {
     "name": "stdout",
     "output_type": "stream",
     "text": [
      "['i', 'i', 'a', 'o', 'a', 'e', 'i', 'e', 'a', 'e', 'a', 'a', 'a', 'e', 'o', 'e', 'i', 'a', 'e', 'o', 'a', 'o', 'a', 'e', 'e', 'o', 'o', 'e', 'e', 'i', 'i', 'i', 'i', 'i', 'i', 'a', 'o', 'u', 'e', 'e', 'a', 'e', 'o', 'o', 'e', 'e', 'a', 'a', 'a']\n",
      "\n",
      "Vowel Count is:  49\n"
     ]
    }
   ],
   "source": [
    "vowels = ['a', 'e','i','o','u']\n",
    "\n",
    "vowel_count = []\n",
    "\n",
    "for chars in fruits:\n",
    "    \n",
    "    for ch in list(chars):\n",
    "        \n",
    "        if ch in vowels:\n",
    "            \n",
    "            vowel_count.append(ch)\n",
    "            \n",
    "print(vowel_count)\n",
    "print()\n",
    "print('Vowel Count is: ',len(vowel_count))\n",
    "        \n",
    "    \n",
    "    "
   ]
  },
  {
   "cell_type": "code",
   "execution_count": null,
   "id": "88eabc4c",
   "metadata": {},
   "outputs": [],
   "source": []
  },
  {
   "cell_type": "markdown",
   "id": "b5552ea4",
   "metadata": {},
   "source": [
    "Write the code to get the longest string value from fruits.\n",
    "\n"
   ]
  },
  {
   "cell_type": "code",
   "execution_count": null,
   "id": "f47a16a8",
   "metadata": {},
   "outputs": [],
   "source": []
  },
  {
   "cell_type": "code",
   "execution_count": null,
   "id": "0b53ba89",
   "metadata": {},
   "outputs": [],
   "source": []
  },
  {
   "cell_type": "markdown",
   "id": "1a95963c",
   "metadata": {},
   "source": [
    "Write the code to get the string values with 5 or more letters in the name.\n",
    "\n"
   ]
  },
  {
   "cell_type": "code",
   "execution_count": null,
   "id": "d6eea9fc",
   "metadata": {},
   "outputs": [],
   "source": []
  },
  {
   "cell_type": "markdown",
   "id": "e53e3ded",
   "metadata": {},
   "source": [
    "Use the .apply method with a lambda function to find the fruit(s) containing the letter \"o\" two or more times.\n",
    "\n"
   ]
  },
  {
   "cell_type": "code",
   "execution_count": null,
   "id": "d99d36f7",
   "metadata": {},
   "outputs": [],
   "source": []
  },
  {
   "cell_type": "markdown",
   "id": "d2242eed",
   "metadata": {},
   "source": [
    "Write the code to get only the string values containing the substring \"berry\".\n",
    "\n"
   ]
  },
  {
   "cell_type": "code",
   "execution_count": null,
   "id": "223350a9",
   "metadata": {},
   "outputs": [],
   "source": []
  },
  {
   "cell_type": "markdown",
   "id": "016bbe3e",
   "metadata": {},
   "source": [
    "Write the code to get only the string values containing the substring \"apple\".\n",
    "\n"
   ]
  },
  {
   "cell_type": "code",
   "execution_count": null,
   "id": "8844a56f",
   "metadata": {},
   "outputs": [],
   "source": []
  },
  {
   "cell_type": "code",
   "execution_count": null,
   "id": "56a977d4",
   "metadata": {},
   "outputs": [],
   "source": []
  }
 ],
 "metadata": {
  "kernelspec": {
   "display_name": "Python 3 (ipykernel)",
   "language": "python",
   "name": "python3"
  },
  "language_info": {
   "codemirror_mode": {
    "name": "ipython",
    "version": 3
   },
   "file_extension": ".py",
   "mimetype": "text/x-python",
   "name": "python",
   "nbconvert_exporter": "python",
   "pygments_lexer": "ipython3",
   "version": "3.9.7"
  }
 },
 "nbformat": 4,
 "nbformat_minor": 5
}
